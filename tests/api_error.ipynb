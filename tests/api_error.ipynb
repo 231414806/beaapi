{
 "cells": [
  {
   "cell_type": "code",
   "execution_count": 12,
   "id": "ae1ec5b1",
   "metadata": {},
   "outputs": [],
   "source": [
    "# We disallow the query that potential produces bad data.\n"
   ]
  },
  {
   "cell_type": "code",
   "execution_count": 1,
   "id": "8713739b",
   "metadata": {},
   "outputs": [],
   "source": [
    "import beaapi\n",
    "import numpy as np\n",
    "import pandas as pd"
   ]
  },
  {
   "cell_type": "code",
   "execution_count": 2,
   "id": "3a4c9067",
   "metadata": {},
   "outputs": [],
   "source": [
    "# Get key from unversioned file\n",
    "import os\n",
    "from dotenv import load_dotenv\n",
    "load_dotenv()\n",
    "beakey = os.environ.get(\"beakey\") #and be careful as USERID is passed back in the 'param' dict of many return values."
   ]
  },
  {
   "cell_type": "markdown",
   "id": "58a3a4aa",
   "metadata": {},
   "source": [
    "# API error"
   ]
  },
  {
   "cell_type": "code",
   "execution_count": 9,
   "id": "69eed3a7",
   "metadata": {},
   "outputs": [
    {
     "name": "stdout",
     "output_type": "stream",
     "text": [
      "True\n",
      "True\n",
      "False\n",
      "272 5256 10016\n"
     ]
    },
    {
     "data": {
      "text/html": [
       "<div>\n",
       "<style scoped>\n",
       "    .dataframe tbody tr th:only-of-type {\n",
       "        vertical-align: middle;\n",
       "    }\n",
       "\n",
       "    .dataframe tbody tr th {\n",
       "        vertical-align: top;\n",
       "    }\n",
       "\n",
       "    .dataframe thead th {\n",
       "        text-align: right;\n",
       "    }\n",
       "</style>\n",
       "<table border=\"1\" class=\"dataframe\">\n",
       "  <thead>\n",
       "    <tr style=\"text-align: right;\">\n",
       "      <th></th>\n",
       "      <th>TableID</th>\n",
       "      <th>Year</th>\n",
       "      <th>RowCode</th>\n",
       "      <th>RowDescr</th>\n",
       "      <th>RowType</th>\n",
       "      <th>ColCode</th>\n",
       "      <th>ColDescr</th>\n",
       "      <th>ColType</th>\n",
       "      <th>DataValue</th>\n",
       "      <th>NoteRef</th>\n",
       "    </tr>\n",
       "  </thead>\n",
       "  <tbody>\n",
       "    <tr>\n",
       "      <th>19</th>\n",
       "      <td>56</td>\n",
       "      <td>2010</td>\n",
       "      <td>11</td>\n",
       "      <td>Agriculture, forestry, fishing, and hunting</td>\n",
       "      <td>Industry</td>\n",
       "      <td>22</td>\n",
       "      <td>Utilities</td>\n",
       "      <td>Commodity</td>\n",
       "      <td>0.010295</td>\n",
       "      <td>56</td>\n",
       "    </tr>\n",
       "  </tbody>\n",
       "</table>\n",
       "</div>"
      ],
      "text/plain": [
       "    TableID  Year RowCode                                     RowDescr  \\\n",
       "19       56  2010      11  Agriculture, forestry, fishing, and hunting   \n",
       "\n",
       "     RowType ColCode   ColDescr    ColType  DataValue NoteRef  \n",
       "19  Industry      22  Utilities  Commodity   0.010295      56  "
      ]
     },
     "metadata": {},
     "output_type": "display_data"
    },
    {
     "data": {
      "text/html": [
       "<div>\n",
       "<style scoped>\n",
       "    .dataframe tbody tr th:only-of-type {\n",
       "        vertical-align: middle;\n",
       "    }\n",
       "\n",
       "    .dataframe tbody tr th {\n",
       "        vertical-align: top;\n",
       "    }\n",
       "\n",
       "    .dataframe thead th {\n",
       "        text-align: right;\n",
       "    }\n",
       "</style>\n",
       "<table border=\"1\" class=\"dataframe\">\n",
       "  <thead>\n",
       "    <tr style=\"text-align: right;\">\n",
       "      <th></th>\n",
       "      <th>TableID</th>\n",
       "      <th>Year</th>\n",
       "      <th>RowCode</th>\n",
       "      <th>RowDescr</th>\n",
       "      <th>RowType</th>\n",
       "      <th>ColCode</th>\n",
       "      <th>ColDescr</th>\n",
       "      <th>ColType</th>\n",
       "      <th>DataValue</th>\n",
       "      <th>NoteRef</th>\n",
       "    </tr>\n",
       "  </thead>\n",
       "  <tbody>\n",
       "    <tr>\n",
       "      <th>73</th>\n",
       "      <td>56</td>\n",
       "      <td>2010</td>\n",
       "      <td>11</td>\n",
       "      <td>Agriculture, forestry, fishing, and hunting</td>\n",
       "      <td>Industry</td>\n",
       "      <td>22</td>\n",
       "      <td>Utilities</td>\n",
       "      <td>Commodity</td>\n",
       "      <td>0.005105</td>\n",
       "      <td>56</td>\n",
       "    </tr>\n",
       "    <tr>\n",
       "      <th>128</th>\n",
       "      <td>56</td>\n",
       "      <td>2010</td>\n",
       "      <td>11</td>\n",
       "      <td>Agriculture, forestry, fishing, and hunting</td>\n",
       "      <td>Industry</td>\n",
       "      <td>22</td>\n",
       "      <td>Utilities</td>\n",
       "      <td>Commodity</td>\n",
       "      <td>0.010295</td>\n",
       "      <td>56</td>\n",
       "    </tr>\n",
       "  </tbody>\n",
       "</table>\n",
       "</div>"
      ],
      "text/plain": [
       "     TableID  Year RowCode                                     RowDescr  \\\n",
       "73        56  2010      11  Agriculture, forestry, fishing, and hunting   \n",
       "128       56  2010      11  Agriculture, forestry, fishing, and hunting   \n",
       "\n",
       "      RowType ColCode   ColDescr    ColType  DataValue NoteRef  \n",
       "73   Industry      22  Utilities  Commodity   0.005105      56  \n",
       "128  Industry      22  Utilities  Commodity   0.010295      56  "
      ]
     },
     "metadata": {},
     "output_type": "display_data"
    }
   ],
   "source": [
    "# We get an error if we ask for two tables from Input Output\n",
    "\n",
    "#If we ask for single tables everything is fine, and we can easily get the index for the table\n",
    "# Note: Table 56 is IxC_TR_1997-2020_PRO_SEC (from xlsx zip)  and 57 is _SUM.\n",
    "spec1a = {\"Year\":\"2010\",\"tableID\":\"56\"}\n",
    "spec1b = {\"Year\":\"2010\",\"tableID\":\"57\"}\n",
    "tbl1a = beaapi.get_data(beakey, \"InputOutput\", **spec1a)\n",
    "tbl1b = beaapi.get_data(beakey, \"InputOutput\", **spec1b)\n",
    "print(tbl1a.duplicated(['TableID', 'Year','RowCode','ColCode','ColDescr']).sum()==0)  # True\n",
    "print(tbl1b.duplicated(['TableID', 'Year','RowCode','ColCode','ColDescr']).sum()==0)  # True\n",
    "\n",
    "# But if we do a combined query ask for both of the previous tables together, we get duplicate rows\n",
    "spec2 = {\"Year\":\"2010\",\"tableID\":\"56,57\"} #Just add the two table together\n",
    "tbl2 = beaapi.get_data(beakey, \"InputOutput\", **spec2)\n",
    "print(tbl2.duplicated(['TableID', 'Year','RowCode','ColCode','ColDescr']).sum()==0)  # False!\n",
    "print(tbl1a.shape[0], tbl1b.shape[0], tbl2.shape[0]) # Rows don't add up\n",
    "\n",
    "# Looking at some example rows, we can see\n",
    "display(tbl1a.query('TableID==56 and Year==\"2010\" and RowCode==\"11\" and ColCode==\"22\" and ColDescr==\"Utilities\"'))\n",
    "# 0.0102950 is correct and the other is a bad value.\n",
    "# If we tbl2.to_csv('local/temp.csv') then it looks like there are \n",
    "#   sets of 4 rows with the same DataValue and (ColCodes, ColDesc), 1 being right and 3 being wrong. \n",
    "#   Some of the wrong ColCodes seem to be from table 57.\n",
    "display(tbl2.query('TableID==56 and Year==\"2010\" and RowCode==\"11\" and ColCode==\"22\" and ColDescr==\"Utilities\"')) # Just differ in terms of DataValue!\n"
   ]
  },
  {
   "cell_type": "code",
   "execution_count": null,
   "id": "7df7be1d",
   "metadata": {},
   "outputs": [],
   "source": []
  }
 ],
 "metadata": {
  "kernelspec": {
   "display_name": "Python 3 (ipykernel)",
   "language": "python",
   "name": "python3"
  },
  "language_info": {
   "codemirror_mode": {
    "name": "ipython",
    "version": 3
   },
   "file_extension": ".py",
   "mimetype": "text/x-python",
   "name": "python",
   "nbconvert_exporter": "python",
   "pygments_lexer": "ipython3",
   "version": "3.8.12"
  }
 },
 "nbformat": 4,
 "nbformat_minor": 5
}
